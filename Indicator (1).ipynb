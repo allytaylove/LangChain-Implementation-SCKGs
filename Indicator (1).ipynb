{
  "cells": [
    {
      "cell_type": "code",
      "execution_count": null,
      "id": "60303358-5946-4d73-9e09-a42bb4904fca",
      "metadata": {
        "id": "60303358-5946-4d73-9e09-a42bb4904fca"
      },
      "outputs": [],
      "source": [
        "%%capture\n",
        "!pip install -U langchain langchain_experimental openai"
      ]
    },
    {
      "cell_type": "code",
      "execution_count": null,
      "id": "f080c30b-aa82-48d2-b6b4-4e53475a6cdf",
      "metadata": {
        "id": "f080c30b-aa82-48d2-b6b4-4e53475a6cdf"
      },
      "outputs": [],
      "source": [
        "# set environment variables\n",
        "import os\n",
        "os.environ[\"OPENAI_API_KEY\"] = \"\""
      ]
    },
    {
      "cell_type": "markdown",
      "id": "47aa59b1-847a-4801-b5e0-0106a8d66058",
      "metadata": {
        "id": "47aa59b1-847a-4801-b5e0-0106a8d66058"
      },
      "source": [
        "# Imports"
      ]
    },
    {
      "cell_type": "code",
      "execution_count": null,
      "id": "8a2392dc-2db3-4daf-ad34-6ff2dd595cd0",
      "metadata": {
        "id": "8a2392dc-2db3-4daf-ad34-6ff2dd595cd0"
      },
      "outputs": [],
      "source": [
        "from langchain.prompts import FewShotPromptTemplate, PromptTemplate\n",
        "from langchain.chat_models import ChatOpenAI\n",
        "from langchain.pydantic_v1 import BaseModel\n",
        "from datetime import datetime\n",
        "from typing import List, Optional\n",
        "from langchain_experimental.tabular_synthetic_data.base import SyntheticDataGenerator\n",
        "from langchain_experimental.tabular_synthetic_data.openai import create_openai_data_generator, OPENAI_TEMPLATE\n",
        "from langchain_experimental.tabular_synthetic_data.prompts import SYNTHETIC_FEW_SHOT_SUFFIX, SYNTHETIC_FEW_SHOT_PREFIX"
      ]
    },
    {
      "cell_type": "markdown",
      "id": "244d173b-c97b-4e64-b5b6-80196058951b",
      "metadata": {
        "id": "244d173b-c97b-4e64-b5b6-80196058951b"
      },
      "source": [
        "# Schema for generating Grouping\n",
        "\n",
        "\n"
      ]
    },
    {
      "cell_type": "code",
      "execution_count": null,
      "id": "7fa008da-3650-43f2-9d52-8e941b0d4ea9",
      "metadata": {
        "id": "7fa008da-3650-43f2-9d52-8e941b0d4ea9"
      },
      "outputs": [],
      "source": [
        "class Indicator(BaseModel):\n",
        "    type: str\n",
        "    spec_version: str\n",
        "    id: str\n",
        "    created: str\n",
        "    modified: str\n",
        "    pattern: str\n",
        "    pattern_type: str\n",
        "    valid_from: str\n",
        "    valid_until: Optional[str] = None\n",
        "    kill_chain_phases: Optional[str] = None\n",
        "    pattern_version: Optional[str] = None\n",
        "    name: Optional[str] = None\n",
        "    description: Optional[str] = None\n",
        "    created_by_ref: Optional[str] = None\n",
        "    indicator_types: Optional[str] = None\n",
        "\n",
        "\n"
      ]
    },
    {
      "cell_type": "markdown",
      "id": "c36426e7-2bdc-44ed-8d1d-efed9456e3aa",
      "metadata": {
        "id": "c36426e7-2bdc-44ed-8d1d-efed9456e3aa"
      },
      "source": [
        "# Sample Data as example"
      ]
    },
    {
      "cell_type": "code",
      "source": [
        "examples = [\n",
        "    {\"example\": \"\"\"Type: indicator, spec_version: 2.1, id: indicator--8e2e2d2b-17d4-4cbf-938f-98ee46b3cd3f, created: 2016-04-06T20:03:48.000Z, modified: 2016-04-06T20:03:48.000Z, name: Poison Ivy malware, description: This file is part of Poision Ivy, pattern: file:hashes.'SHA-256' = '4bac27393bdd9777ce02453256c5577cd02275510b2227f473d03f533924f877', pattern_type: stix, valid_from: 2016-01-01T00:00:00Z\"\"\"},\n",
        "    {\"example\": \"\"\"Type: indicator, spec_version: 2.1, id: indicator--e8094b09-7df4-4b13-b207-1e27af3c4bde, created: 2015-05-15T09:12:16.432Z, modified: 2015-05-15T09:12:16.432Z, pattern: ipv4-addr:value = '219.76.208.163', pattern_type: stix, valid_from: 2015-05-15T09:12:16.432678Z\"\"\"},\n",
        "    {\"example\": \"\"\"Type: indicator, spec_version: 2.1, id: indicator--329ae6e9-25bd-49e8-89d1-aae4ca52e4a7, created: 2015-05-15T09:12:16.432Z, modified: 2015-05-15T09:12:16.432Z, pattern: domain-name:value = 'www.webserver.dynssl.com' OR ipv4-addr:value = '113.10.246.30' OR ipv4-addr:value = '219.90.112.203' OR ipv4-addr:value = '75.126.95.138' OR ipv4-addr:value = '219.90.112.197' OR ipv4-addr:value = '202.65.222.45', pattern_type: stix, valid_from: 2015-05-15T09:12:16.432678Z\"\"\"},\n",
        "    {\"example\": \"\"\"Type: indicator, spec_version: 2.1, id:indicator--54e1e351-fec0-41a4-b62c-d7f86101e241, created: 2015-05-15T09:12:16.432Z, modified: 2015-05-15T09:12:16.432Z, pattern: domain-name:value = 'www.webserver.freetcp.com' OR ipv4-addr:value = '113.10.246.30' OR ipv4-addr:value = '219.90.112.203' OR ipv4-addr:value = '202.65.220.64' OR ipv4-addr:value = '75.126.95.138' OR ipv4-addr:value = '219.90.112.197' OR ipv4-addr:value = '202.65.222.45', pattern_type: stix, valid_from: 2015-05-15T09:12:16.432678Z\"\"\"},\n",
        "    {\"example\": \"\"\"Type: indicator, spec_version: 2.1, id: indicator--2e59f00b-0986-437e-9ebd-e0d61900d688, created: 2015-05-15T09:12:16.432Z, modified: 2015-05-15T09:12:16.432Z, pattern: domain-name:value = 'www.webserver.fartit.com' OR ipv4-addr:value = '113.10.246.30' OR ipv4-addr:value = '219.90.112.203' OR ipv4-addr:value = '202.65.220.64' OR ipv4-addr:value = '75.126.95.138', pattern_type: stix, valid_from: 2015-05-15T09:12:16.432678Z\"\"\"},\n",
        "    {\"example\": \"\"\"Type: indicator, spec_version: 2.1, id: indicator--8da68996-f175-4ae0-bd74-aad4913873b8, created: 2015-05-15T09:12:16.432Z, modified: 2015-05-15T09:12:16.432Z, pattern: domain-name:value = 'microsofta.byinter.net' OR domain-name:value = 'microsoftb.byinter.net' OR domain-name:value = 'microsoftc.byinter.net' OR domain-name:value = 'microsofte.byinter.net' OR ipv4-addr:value = '113.10.246.30' OR ipv4-addr:value = '219.90.112.203' OR ipv4-addr:value = '202.65.220.64' OR ipv4-addr:value = '75.126.95.138' OR ipv4-addr:value = '219.90.112.197' OR ipv4-addr:value = '202.65.222.45' OR ipv4-addr:value = '98.126.148.114', pattern_type: stix, valid_from: 2015-05-15T09:12:16.432678Z\"\"\"},\n",
        "    {\"example\": \"\"\"Type: indicator, spec_version: 2.1, id: indicator--4e11b23f-732b-418e-b786-4dbf65459d50, created: 2015-05-15T09:12:16.432Z, modified: 2015-05-15T09:12:16.432Z\", pattern: domain-name:value = 'nkr.iphone.qpoe.com' OR ipv4-addr:value = '180.210.206.96' OR ipv4-addr:value = '101.78.151.179', pattern_type: stix, valid_from: 2015-05-15T09:12:16.432678Z\"\"\"}\n",
        "]"
      ],
      "metadata": {
        "id": "bMSmSlx9uOwd"
      },
      "id": "bMSmSlx9uOwd",
      "execution_count": null,
      "outputs": []
    },
    {
      "cell_type": "code",
      "source": [],
      "metadata": {
        "id": "1VJlP7YfAzvj"
      },
      "id": "1VJlP7YfAzvj",
      "execution_count": null,
      "outputs": []
    },
    {
      "cell_type": "markdown",
      "id": "76546d91-f130-4a75-81b4-c940cb1f3c8b",
      "metadata": {
        "id": "76546d91-f130-4a75-81b4-c940cb1f3c8b"
      },
      "source": [
        "# Prompt Template for GPT-4"
      ]
    },
    {
      "cell_type": "code",
      "execution_count": null,
      "id": "cf3c201e-a55c-4419-b463-ed8242308d9b",
      "metadata": {
        "id": "cf3c201e-a55c-4419-b463-ed8242308d9b"
      },
      "outputs": [],
      "source": [
        "OPENAI_TEMPLATE = PromptTemplate(input_variables=[\"example\"], template=\"{example}\")\n",
        "\n",
        "prompt_template = FewShotPromptTemplate(\n",
        "    prefix=SYNTHETIC_FEW_SHOT_PREFIX,\n",
        "    examples=examples,\n",
        "    suffix=SYNTHETIC_FEW_SHOT_SUFFIX,\n",
        "    input_variables=[\"subject\", \"extra\"],\n",
        "    example_prompt=OPENAI_TEMPLATE,\n",
        ")"
      ]
    },
    {
      "cell_type": "markdown",
      "id": "b079b30b-2b89-4718-855c-f70a43a0a953",
      "metadata": {
        "id": "b079b30b-2b89-4718-855c-f70a43a0a953"
      },
      "source": [
        "# Data Generator"
      ]
    },
    {
      "cell_type": "code",
      "execution_count": null,
      "id": "7fd5c1e3-3236-4781-8a48-b06081e659a0",
      "metadata": {
        "id": "7fd5c1e3-3236-4781-8a48-b06081e659a0"
      },
      "outputs": [],
      "source": [
        "synthetic_data_generator = create_openai_data_generator(\n",
        "    output_schema=Indicator,\n",
        "    llm=ChatOpenAI(temperature=1,model='gpt-4-turbo-preview'),\n",
        "    prompt=prompt_template,\n",
        ")"
      ]
    },
    {
      "cell_type": "markdown",
      "id": "b6a55a1e-6683-4978-8eba-666490d4e4ad",
      "metadata": {
        "id": "b6a55a1e-6683-4978-8eba-666490d4e4ad"
      },
      "source": [
        "# Parameters"
      ]
    },
    {
      "cell_type": "code",
      "execution_count": null,
      "id": "3223a40d-f405-45c4-ad76-8fb2c90de834",
      "metadata": {
        "id": "3223a40d-f405-45c4-ad76-8fb2c90de834"
      },
      "outputs": [],
      "source": [
        "synthetic_results = synthetic_data_generator.generate(\n",
        "    subject=\"Indicator\",\n",
        "    extra=\"Choose a unique and unconventional name for each Indicator. Avoid common or typical names.\",\n",
        "    runs=3,\n",
        ")"
      ]
    },
    {
      "cell_type": "code",
      "execution_count": null,
      "id": "aaa3d5fb-1eff-41b0-b026-f266cd819fd1",
      "metadata": {
        "id": "aaa3d5fb-1eff-41b0-b026-f266cd819fd1"
      },
      "outputs": [],
      "source": [
        "len(synthetic_results)"
      ]
    },
    {
      "cell_type": "markdown",
      "id": "4e8b1e99-ae5f-4aaa-99ed-e40e994ef5da",
      "metadata": {
        "id": "4e8b1e99-ae5f-4aaa-99ed-e40e994ef5da"
      },
      "source": [
        "# Display Data"
      ]
    },
    {
      "cell_type": "code",
      "execution_count": null,
      "id": "fdeb5719-271a-4113-80da-398265f53b1f",
      "metadata": {
        "id": "fdeb5719-271a-4113-80da-398265f53b1f"
      },
      "outputs": [],
      "source": [
        "synthetic_results"
      ]
    },
    {
      "cell_type": "markdown",
      "id": "c979113a-ac0e-4500-bbd2-0741edc8ceab",
      "metadata": {
        "id": "c979113a-ac0e-4500-bbd2-0741edc8ceab"
      },
      "source": [
        "# Display as a DataFrame"
      ]
    },
    {
      "cell_type": "code",
      "execution_count": null,
      "id": "52c8dced-0de5-48f4-8add-df4995bbefaf",
      "metadata": {
        "id": "52c8dced-0de5-48f4-8add-df4995bbefaf"
      },
      "outputs": [],
      "source": [
        "import pandas as pd\n",
        "\n",
        "# Create a list of dictionaries from the objects\n",
        "synthetic_data = []\n",
        "for item in synthetic_results:\n",
        "    synthetic_data.append({\n",
        "        'type': item.type,\n",
        "        'name': item.name,\n",
        "        'description': item.description,\n",
        "        'indicator_types': item.indicator_types,\n",
        "        'pattern': item.pattern,\n",
        "        'pattern_type': item.pattern_type,\n",
        "        'pattern_version': item.pattern_version,\n",
        "        'valid_from': item.valid_from,\n",
        "        'valid_until': item.valid_until,\n",
        "        'kill_chain_phases': item.kill_chain_phases\n",
        "        })\n",
        "\n",
        "# Create a Pandas DataFrame from the list of dictionaries\n",
        "synthetic_df = pd.DataFrame(synthetic_data)\n",
        "\n",
        "# Display the DataFrame\n",
        "print(type(synthetic_df))\n",
        "synthetic_df"
      ]
    },
    {
      "cell_type": "code",
      "execution_count": null,
      "id": "fd5d0931-9c30-4d3b-a351-97fb9ca51e9d",
      "metadata": {
        "id": "fd5d0931-9c30-4d3b-a351-97fb9ca51e9d"
      },
      "outputs": [],
      "source": [
        "# Save the DataFrame to a CSV file\n",
        "synthetic_df.to_csv('indicator_data.csv', index=False)  # index=False prevents adding an extra index column\n",
        "print(\"Indicator data saved to 'indicator_data.csv'\")"
      ]
    }
  ],
  "metadata": {
    "kernelspec": {
      "display_name": "Python 3",
      "name": "python3"
    },
    "language_info": {
      "codemirror_mode": {
        "name": "ipython",
        "version": 3
      },
      "file_extension": ".py",
      "mimetype": "text/x-python",
      "name": "python",
      "nbconvert_exporter": "python",
      "pygments_lexer": "ipython3",
      "version": "3.10.12"
    },
    "colab": {
      "provenance": [],
      "gpuType": "T4"
    },
    "accelerator": "GPU"
  },
  "nbformat": 4,
  "nbformat_minor": 5
}