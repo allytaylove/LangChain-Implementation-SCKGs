{
  "cells": [
    {
      "cell_type": "code",
      "execution_count": null,
      "id": "60303358-5946-4d73-9e09-a42bb4904fca",
      "metadata": {
        "id": "60303358-5946-4d73-9e09-a42bb4904fca"
      },
      "outputs": [],
      "source": [
        "%%capture\n",
        "!pip install -U langchain langchain_experimental openai"
      ]
    },
    {
      "cell_type": "code",
      "execution_count": null,
      "id": "f080c30b-aa82-48d2-b6b4-4e53475a6cdf",
      "metadata": {
        "id": "f080c30b-aa82-48d2-b6b4-4e53475a6cdf"
      },
      "outputs": [],
      "source": [
        "# set environment variables\n",
        "import os\n",
        "os.environ[\"OPENAI_API_KEY\"] = \"\""
      ]
    },
    {
      "cell_type": "markdown",
      "id": "47aa59b1-847a-4801-b5e0-0106a8d66058",
      "metadata": {
        "id": "47aa59b1-847a-4801-b5e0-0106a8d66058"
      },
      "source": [
        "# Imports"
      ]
    },
    {
      "cell_type": "code",
      "execution_count": null,
      "id": "8a2392dc-2db3-4daf-ad34-6ff2dd595cd0",
      "metadata": {
        "id": "8a2392dc-2db3-4daf-ad34-6ff2dd595cd0"
      },
      "outputs": [],
      "source": [
        "from langchain.prompts import FewShotPromptTemplate, PromptTemplate\n",
        "from langchain.chat_models import ChatOpenAI\n",
        "from langchain.pydantic_v1 import BaseModel\n",
        "from datetime import datetime\n",
        "from typing import List, Optional\n",
        "from langchain_experimental.tabular_synthetic_data.base import SyntheticDataGenerator\n",
        "from langchain_experimental.tabular_synthetic_data.openai import create_openai_data_generator, OPENAI_TEMPLATE\n",
        "from langchain_experimental.tabular_synthetic_data.prompts import SYNTHETIC_FEW_SHOT_SUFFIX, SYNTHETIC_FEW_SHOT_PREFIX"
      ]
    },
    {
      "cell_type": "markdown",
      "id": "244d173b-c97b-4e64-b5b6-80196058951b",
      "metadata": {
        "id": "244d173b-c97b-4e64-b5b6-80196058951b"
      },
      "source": [
        "# Schema for generating Campaign\n"
      ]
    },
    {
      "cell_type": "code",
      "execution_count": null,
      "id": "7fa008da-3650-43f2-9d52-8e941b0d4ea9",
      "metadata": {
        "id": "7fa008da-3650-43f2-9d52-8e941b0d4ea9"
      },
      "outputs": [],
      "source": [
        "class Campaign(BaseModel):\n",
        "    type: str\n",
        "    spec_version: str\n",
        "    id: str\n",
        "    created: str\n",
        "    modified: str\n",
        "    name: str\n",
        "    created_by_ref: Optional[str] = None\n",
        "    description: Optional[str] = None\n",
        "    aliases: Optional[str] = None\n",
        "    first_seen: Optional[str] = None\n",
        "    last_seen: Optional[str] = None\n",
        "    objective: Optional[str] = None"
      ]
    },
    {
      "cell_type": "markdown",
      "id": "c36426e7-2bdc-44ed-8d1d-efed9456e3aa",
      "metadata": {
        "id": "c36426e7-2bdc-44ed-8d1d-efed9456e3aa"
      },
      "source": [
        "# Sample Data as example"
      ]
    },
    {
      "cell_type": "code",
      "source": [
        "examples = [\n",
        "    {\"example\": \"\"\"Type: campaign, spec_version: 2.1, id: campaign--8e2e2d2b-17d4-4cbf-938f-98ee46b3cd3f, created: 2016-04-06T20:03:00.000Z, modified: 2016-04-06T20:03:00.000Z, name: Green Group Attacks Against Finance, created_by_ref: identity--f431f809-377b-45e0-aa1c-6a4751cae5ff, description: Campaign by Green Group against a series of targets in the financial services sector.\"\"\"},\n",
        "    {\"example\": \"\"\"Type: campaign, spec_version: 2.1, id: campaign--e5268b6e-4931-42f1-b379-87f48eb41b1e, created: 2016-08-08T15:50:10.983Z, modified: 2016-08-08T15:50:10.983Z, name: Operation Bran Flakes, description: A concerted effort to insert false information into the BPP's web pages., first_seen: 2016-01-08T12:50:40.123Z, objective: Hack www.bpp.bn\"\"\"},\n",
        "    {\"example\": \"\"\"Type: campaign, spec_version: 2.1, id: campaign--1d8897a7-fdc2-4e59-afc9-becbe04df727, created: 2016-08-08T15:50:10.983Z, modified: 2016-08-08T15:50:10.983Z, name: Operation Raisin Bran, description: A DDOS campaign to flood BPP web servers., first_seen: 2016-02-07T19:45:32.126Z\"\"\"},\n",
        "    {\"example\": \"\"\"Type: campaign, spec_version: 2.1, id: campaign--752c225d-d6f6-4456-9130-d9580fd4007b, created: 2015-05-15T09:12:16.432Z, modified: 2015-05-15T09:12:16.432Z, name: admin@338, description: Active since 2008, this campaign mostly targets the financial services industry, though we have also seen activity in the telecom, government, and defense sectors.\"\"\"},\n",
        "    {\"example\": \"\"\"Type: campaign, spec_version: 2.1, id: campaign--721976f9-56d7-4749-8c69-b3ac7c315f05, created: 2015-05-15T09:12:16.432Z, modified: 2015-05-15T09:12:16.432Z, name: menuPass, first_seen: 2009-12-14T00:00:00.000000Z\"\"\"},\n",
        "    {\"example\": \"\"\"Type: campaign, spec_version: 2.1, id: campaign--d02a1560-ff69-49f4-ac34-919b8aa4b91e, created: 2015-05-15T09:12:16.432Z, modified: 2015-05-15T09:12:16.432Z, name: th3bug, description: This ongoing campaign targets a number of industries but appears to prefer targets in higher education and the healthcare sectors.\"\"\"}\n",
        "]"
      ],
      "metadata": {
        "id": "bMSmSlx9uOwd"
      },
      "id": "bMSmSlx9uOwd",
      "execution_count": null,
      "outputs": []
    },
    {
      "cell_type": "markdown",
      "id": "76546d91-f130-4a75-81b4-c940cb1f3c8b",
      "metadata": {
        "id": "76546d91-f130-4a75-81b4-c940cb1f3c8b"
      },
      "source": [
        "# Prompt Template for GPT-4"
      ]
    },
    {
      "cell_type": "code",
      "execution_count": null,
      "id": "cf3c201e-a55c-4419-b463-ed8242308d9b",
      "metadata": {
        "id": "cf3c201e-a55c-4419-b463-ed8242308d9b"
      },
      "outputs": [],
      "source": [
        "OPENAI_TEMPLATE = PromptTemplate(input_variables=[\"example\"], template=\"{example}\")\n",
        "\n",
        "prompt_template = FewShotPromptTemplate(\n",
        "    prefix=SYNTHETIC_FEW_SHOT_PREFIX,\n",
        "    examples=examples,\n",
        "    suffix=SYNTHETIC_FEW_SHOT_SUFFIX,\n",
        "    input_variables=[\"subject\", \"extra\"],\n",
        "    example_prompt=OPENAI_TEMPLATE,\n",
        ")"
      ]
    },
    {
      "cell_type": "markdown",
      "id": "b079b30b-2b89-4718-855c-f70a43a0a953",
      "metadata": {
        "id": "b079b30b-2b89-4718-855c-f70a43a0a953"
      },
      "source": [
        "# Data Generator"
      ]
    },
    {
      "cell_type": "code",
      "execution_count": null,
      "id": "7fd5c1e3-3236-4781-8a48-b06081e659a0",
      "metadata": {
        "id": "7fd5c1e3-3236-4781-8a48-b06081e659a0",
        "colab": {
          "base_uri": "https://localhost:8080/"
        },
        "outputId": "0a6ee4b8-f485-43d9-cd75-cf9a9e206d27"
      },
      "outputs": [
        {
          "output_type": "stream",
          "name": "stderr",
          "text": [
            "/usr/local/lib/python3.10/dist-packages/langchain_core/_api/deprecation.py:117: LangChainDeprecationWarning: The class `langchain_community.chat_models.openai.ChatOpenAI` was deprecated in langchain-community 0.0.10 and will be removed in 0.2.0. An updated version of the class exists in the langchain-openai package and should be used instead. To use it run `pip install -U langchain-openai` and import as `from langchain_openai import ChatOpenAI`.\n",
            "  warn_deprecated(\n"
          ]
        }
      ],
      "source": [
        "synthetic_data_generator = create_openai_data_generator(\n",
        "    output_schema=Campaign,\n",
        "    llm=ChatOpenAI(temperature=1,model='gpt-4-turbo-preview'),\n",
        "    prompt=prompt_template,\n",
        ")"
      ]
    },
    {
      "cell_type": "markdown",
      "id": "b6a55a1e-6683-4978-8eba-666490d4e4ad",
      "metadata": {
        "id": "b6a55a1e-6683-4978-8eba-666490d4e4ad"
      },
      "source": [
        "# Parameters"
      ]
    },
    {
      "cell_type": "code",
      "execution_count": null,
      "id": "3223a40d-f405-45c4-ad76-8fb2c90de834",
      "metadata": {
        "id": "3223a40d-f405-45c4-ad76-8fb2c90de834"
      },
      "outputs": [],
      "source": [
        "synthetic_results = synthetic_data_generator.generate(\n",
        "    subject=\"campaign\",\n",
        "    extra=\"Choose a unique and unconventional name for each campaign. Avoid common or typical names.\",\n",
        "    runs=5,\n",
        ")"
      ]
    },
    {
      "cell_type": "code",
      "execution_count": null,
      "id": "aaa3d5fb-1eff-41b0-b026-f266cd819fd1",
      "metadata": {
        "id": "aaa3d5fb-1eff-41b0-b026-f266cd819fd1",
        "outputId": "a9b36810-8d00-4a7f-9bcc-c2ffcbdc033d",
        "colab": {
          "base_uri": "https://localhost:8080/"
        }
      },
      "outputs": [
        {
          "output_type": "execute_result",
          "data": {
            "text/plain": [
              "5"
            ]
          },
          "metadata": {},
          "execution_count": 10
        }
      ],
      "source": [
        "len(synthetic_results)"
      ]
    },
    {
      "cell_type": "markdown",
      "id": "4e8b1e99-ae5f-4aaa-99ed-e40e994ef5da",
      "metadata": {
        "id": "4e8b1e99-ae5f-4aaa-99ed-e40e994ef5da"
      },
      "source": [
        "# Display Data"
      ]
    },
    {
      "cell_type": "code",
      "execution_count": null,
      "id": "fdeb5719-271a-4113-80da-398265f53b1f",
      "metadata": {
        "id": "fdeb5719-271a-4113-80da-398265f53b1f",
        "outputId": "a191e506-264d-4e5d-9f2a-e4cf0d9e7e31",
        "colab": {
          "base_uri": "https://localhost:8080/"
        }
      },
      "outputs": [
        {
          "output_type": "execute_result",
          "data": {
            "text/plain": [
              "[Campaign(type='campaign', spec_version='2.1', id='campaign--b4d5efee-f7a8-4a35-9a5b-c26b5b7a8db2', created='2023-01-24T14:22:35.623Z', modified='2023-01-24T14:22:35.623Z', name='Emerald Typhoon', created_by_ref=None, description='A sophisticated cyber espionage operation focusing on geopolitical intelligence gathering within the energy sector.', aliases=None, first_seen='2022-11-10T09:30:45.000Z', last_seen='2023-01-20T11:45:30.000Z', objective='Collecting intelligence on energy supply chains and geopolitical developments affecting the sector.'),\n",
              " Campaign(type='campaign', spec_version='2.1', id='campaign--b8e1d249-ae64-4d16-8c8c-8beb58ae96c8', created='2023-03-05T12:33:04.000Z', modified='2023-03-05T12:33:04.000Z', name='Project Neon Shadow', created_by_ref=None, description='A global initiative aimed at undermining the security frameworks of critical infrastructure through the dissemination of advanced persistent threats (APTs).', aliases=None, first_seen='2022-12-15T10:15:30.000Z', last_seen='2023-02-28T17:50:00.000Z', objective='To expose vulnerabilities in critical infrastructure and provoke a reevaluation of current cybersecurity practices.'),\n",
              " Campaign(type='campaign', spec_version='2.1', id='campaign--c4d3f5ee-3f18-4e8b-9b34-726b93ef5cd9', created='2023-06-15T10:33:20.500Z', modified='2023-06-15T10:33:20.500Z', name='Quantum Paradox', created_by_ref=None, description='A highly covert operation aimed at infiltrating quantum computing research facilities across the globe. The primary focus is on acquiring cutting-edge quantum algorithms and hardware designs.', aliases=None, first_seen='2023-02-01T08:00:00.000Z', last_seen='2023-06-10T18:30:00.000Z', objective='To secure a significant advantage in quantum computing technology for undefined state actors.'),\n",
              " Campaign(type='campaign', spec_version='2.1', id='campaign--2d9c0490-dc4c-45e4-bb98-4a5b9a0dbdfe', created='2023-08-02T09:54:23.123Z', modified='2023-08-02T09:54:23.123Z', name='Aether Nexus', created_by_ref=None, description='An elusive campaign aimed at siphoning proprietary aerospace technologies through sophisticated cyber-espionage techniques. Initially observed targeting major aeronautics firms.', aliases=None, first_seen='2022-07-15T07:00:00.000Z', last_seen='2023-07-31T14:00:00.000Z', objective='Gaining unauthorized access to and extraction of cutting-edge aerospace designs and research, furthering the technological advancements of an undisclosed nation-state.'),\n",
              " Campaign(type='campaign', spec_version='2.1', id='campaign--c5d2f8e5-eeac-4f8b-988d-f67a76f712d6', created='2023-07-10T12:45:00.000Z', modified='2023-07-10T12:45:00.000Z', name='Neon Mirage', created_by_ref='None', description='A clandestine initiative focused on manipulating social media to influence global financial markets. It employs sophisticated misinformation techniques to sway stock prices and cryptocurrency valuations.', aliases='None', first_seen='2023-01-01T10:00:00.000Z', last_seen='2023-06-30T18:00:00.000Z', objective='To manipulate market perceptions and financial outcomes beneficial to the orchestrators through widespread dissemination of tailored disinformation.')]"
            ]
          },
          "metadata": {},
          "execution_count": 11
        }
      ],
      "source": [
        "synthetic_results"
      ]
    },
    {
      "cell_type": "markdown",
      "id": "c979113a-ac0e-4500-bbd2-0741edc8ceab",
      "metadata": {
        "id": "c979113a-ac0e-4500-bbd2-0741edc8ceab"
      },
      "source": [
        "# Display as a DataFrame"
      ]
    },
    {
      "cell_type": "code",
      "execution_count": null,
      "id": "52c8dced-0de5-48f4-8add-df4995bbefaf",
      "metadata": {
        "id": "52c8dced-0de5-48f4-8add-df4995bbefaf",
        "outputId": "2d15983c-140a-4874-8a43-a642ff15bf04",
        "colab": {
          "base_uri": "https://localhost:8080/",
          "height": 591
        }
      },
      "outputs": [
        {
          "output_type": "stream",
          "name": "stdout",
          "text": [
            "<class 'pandas.core.frame.DataFrame'>\n"
          ]
        },
        {
          "output_type": "execute_result",
          "data": {
            "text/plain": [
              "       type                 name  \\\n",
              "0  campaign      Emerald Typhoon   \n",
              "1  campaign  Project Neon Shadow   \n",
              "2  campaign      Quantum Paradox   \n",
              "3  campaign         Aether Nexus   \n",
              "4  campaign          Neon Mirage   \n",
              "\n",
              "                                         description aliases  \\\n",
              "0  A sophisticated cyber espionage operation focu...    None   \n",
              "1  A global initiative aimed at undermining the s...    None   \n",
              "2  A highly covert operation aimed at infiltratin...    None   \n",
              "3  An elusive campaign aimed at siphoning proprie...    None   \n",
              "4  A clandestine initiative focused on manipulati...    None   \n",
              "\n",
              "                 first_seen                 last_seen  \\\n",
              "0  2022-11-10T09:30:45.000Z  2023-01-20T11:45:30.000Z   \n",
              "1  2022-12-15T10:15:30.000Z  2023-02-28T17:50:00.000Z   \n",
              "2  2023-02-01T08:00:00.000Z  2023-06-10T18:30:00.000Z   \n",
              "3  2022-07-15T07:00:00.000Z  2023-07-31T14:00:00.000Z   \n",
              "4  2023-01-01T10:00:00.000Z  2023-06-30T18:00:00.000Z   \n",
              "\n",
              "                                           objective  \n",
              "0  Collecting intelligence on energy supply chain...  \n",
              "1  To expose vulnerabilities in critical infrastr...  \n",
              "2  To secure a significant advantage in quantum c...  \n",
              "3  Gaining unauthorized access to and extraction ...  \n",
              "4  To manipulate market perceptions and financial...  "
            ],
            "text/html": [
              "\n",
              "  <div id=\"df-2be0ee53-2ed8-469c-92cf-b7723a30726b\" class=\"colab-df-container\">\n",
              "    <div>\n",
              "<style scoped>\n",
              "    .dataframe tbody tr th:only-of-type {\n",
              "        vertical-align: middle;\n",
              "    }\n",
              "\n",
              "    .dataframe tbody tr th {\n",
              "        vertical-align: top;\n",
              "    }\n",
              "\n",
              "    .dataframe thead th {\n",
              "        text-align: right;\n",
              "    }\n",
              "</style>\n",
              "<table border=\"1\" class=\"dataframe\">\n",
              "  <thead>\n",
              "    <tr style=\"text-align: right;\">\n",
              "      <th></th>\n",
              "      <th>type</th>\n",
              "      <th>name</th>\n",
              "      <th>description</th>\n",
              "      <th>aliases</th>\n",
              "      <th>first_seen</th>\n",
              "      <th>last_seen</th>\n",
              "      <th>objective</th>\n",
              "    </tr>\n",
              "  </thead>\n",
              "  <tbody>\n",
              "    <tr>\n",
              "      <th>0</th>\n",
              "      <td>campaign</td>\n",
              "      <td>Emerald Typhoon</td>\n",
              "      <td>A sophisticated cyber espionage operation focu...</td>\n",
              "      <td>None</td>\n",
              "      <td>2022-11-10T09:30:45.000Z</td>\n",
              "      <td>2023-01-20T11:45:30.000Z</td>\n",
              "      <td>Collecting intelligence on energy supply chain...</td>\n",
              "    </tr>\n",
              "    <tr>\n",
              "      <th>1</th>\n",
              "      <td>campaign</td>\n",
              "      <td>Project Neon Shadow</td>\n",
              "      <td>A global initiative aimed at undermining the s...</td>\n",
              "      <td>None</td>\n",
              "      <td>2022-12-15T10:15:30.000Z</td>\n",
              "      <td>2023-02-28T17:50:00.000Z</td>\n",
              "      <td>To expose vulnerabilities in critical infrastr...</td>\n",
              "    </tr>\n",
              "    <tr>\n",
              "      <th>2</th>\n",
              "      <td>campaign</td>\n",
              "      <td>Quantum Paradox</td>\n",
              "      <td>A highly covert operation aimed at infiltratin...</td>\n",
              "      <td>None</td>\n",
              "      <td>2023-02-01T08:00:00.000Z</td>\n",
              "      <td>2023-06-10T18:30:00.000Z</td>\n",
              "      <td>To secure a significant advantage in quantum c...</td>\n",
              "    </tr>\n",
              "    <tr>\n",
              "      <th>3</th>\n",
              "      <td>campaign</td>\n",
              "      <td>Aether Nexus</td>\n",
              "      <td>An elusive campaign aimed at siphoning proprie...</td>\n",
              "      <td>None</td>\n",
              "      <td>2022-07-15T07:00:00.000Z</td>\n",
              "      <td>2023-07-31T14:00:00.000Z</td>\n",
              "      <td>Gaining unauthorized access to and extraction ...</td>\n",
              "    </tr>\n",
              "    <tr>\n",
              "      <th>4</th>\n",
              "      <td>campaign</td>\n",
              "      <td>Neon Mirage</td>\n",
              "      <td>A clandestine initiative focused on manipulati...</td>\n",
              "      <td>None</td>\n",
              "      <td>2023-01-01T10:00:00.000Z</td>\n",
              "      <td>2023-06-30T18:00:00.000Z</td>\n",
              "      <td>To manipulate market perceptions and financial...</td>\n",
              "    </tr>\n",
              "  </tbody>\n",
              "</table>\n",
              "</div>\n",
              "    <div class=\"colab-df-buttons\">\n",
              "\n",
              "  <div class=\"colab-df-container\">\n",
              "    <button class=\"colab-df-convert\" onclick=\"convertToInteractive('df-2be0ee53-2ed8-469c-92cf-b7723a30726b')\"\n",
              "            title=\"Convert this dataframe to an interactive table.\"\n",
              "            style=\"display:none;\">\n",
              "\n",
              "  <svg xmlns=\"http://www.w3.org/2000/svg\" height=\"24px\" viewBox=\"0 -960 960 960\">\n",
              "    <path d=\"M120-120v-720h720v720H120Zm60-500h600v-160H180v160Zm220 220h160v-160H400v160Zm0 220h160v-160H400v160ZM180-400h160v-160H180v160Zm440 0h160v-160H620v160ZM180-180h160v-160H180v160Zm440 0h160v-160H620v160Z\"/>\n",
              "  </svg>\n",
              "    </button>\n",
              "\n",
              "  <style>\n",
              "    .colab-df-container {\n",
              "      display:flex;\n",
              "      gap: 12px;\n",
              "    }\n",
              "\n",
              "    .colab-df-convert {\n",
              "      background-color: #E8F0FE;\n",
              "      border: none;\n",
              "      border-radius: 50%;\n",
              "      cursor: pointer;\n",
              "      display: none;\n",
              "      fill: #1967D2;\n",
              "      height: 32px;\n",
              "      padding: 0 0 0 0;\n",
              "      width: 32px;\n",
              "    }\n",
              "\n",
              "    .colab-df-convert:hover {\n",
              "      background-color: #E2EBFA;\n",
              "      box-shadow: 0px 1px 2px rgba(60, 64, 67, 0.3), 0px 1px 3px 1px rgba(60, 64, 67, 0.15);\n",
              "      fill: #174EA6;\n",
              "    }\n",
              "\n",
              "    .colab-df-buttons div {\n",
              "      margin-bottom: 4px;\n",
              "    }\n",
              "\n",
              "    [theme=dark] .colab-df-convert {\n",
              "      background-color: #3B4455;\n",
              "      fill: #D2E3FC;\n",
              "    }\n",
              "\n",
              "    [theme=dark] .colab-df-convert:hover {\n",
              "      background-color: #434B5C;\n",
              "      box-shadow: 0px 1px 3px 1px rgba(0, 0, 0, 0.15);\n",
              "      filter: drop-shadow(0px 1px 2px rgba(0, 0, 0, 0.3));\n",
              "      fill: #FFFFFF;\n",
              "    }\n",
              "  </style>\n",
              "\n",
              "    <script>\n",
              "      const buttonEl =\n",
              "        document.querySelector('#df-2be0ee53-2ed8-469c-92cf-b7723a30726b button.colab-df-convert');\n",
              "      buttonEl.style.display =\n",
              "        google.colab.kernel.accessAllowed ? 'block' : 'none';\n",
              "\n",
              "      async function convertToInteractive(key) {\n",
              "        const element = document.querySelector('#df-2be0ee53-2ed8-469c-92cf-b7723a30726b');\n",
              "        const dataTable =\n",
              "          await google.colab.kernel.invokeFunction('convertToInteractive',\n",
              "                                                    [key], {});\n",
              "        if (!dataTable) return;\n",
              "\n",
              "        const docLinkHtml = 'Like what you see? Visit the ' +\n",
              "          '<a target=\"_blank\" href=https://colab.research.google.com/notebooks/data_table.ipynb>data table notebook</a>'\n",
              "          + ' to learn more about interactive tables.';\n",
              "        element.innerHTML = '';\n",
              "        dataTable['output_type'] = 'display_data';\n",
              "        await google.colab.output.renderOutput(dataTable, element);\n",
              "        const docLink = document.createElement('div');\n",
              "        docLink.innerHTML = docLinkHtml;\n",
              "        element.appendChild(docLink);\n",
              "      }\n",
              "    </script>\n",
              "  </div>\n",
              "\n",
              "\n",
              "<div id=\"df-e7b89f13-097e-463a-b25a-a9dbe8a976d2\">\n",
              "  <button class=\"colab-df-quickchart\" onclick=\"quickchart('df-e7b89f13-097e-463a-b25a-a9dbe8a976d2')\"\n",
              "            title=\"Suggest charts\"\n",
              "            style=\"display:none;\">\n",
              "\n",
              "<svg xmlns=\"http://www.w3.org/2000/svg\" height=\"24px\"viewBox=\"0 0 24 24\"\n",
              "     width=\"24px\">\n",
              "    <g>\n",
              "        <path d=\"M19 3H5c-1.1 0-2 .9-2 2v14c0 1.1.9 2 2 2h14c1.1 0 2-.9 2-2V5c0-1.1-.9-2-2-2zM9 17H7v-7h2v7zm4 0h-2V7h2v10zm4 0h-2v-4h2v4z\"/>\n",
              "    </g>\n",
              "</svg>\n",
              "  </button>\n",
              "\n",
              "<style>\n",
              "  .colab-df-quickchart {\n",
              "      --bg-color: #E8F0FE;\n",
              "      --fill-color: #1967D2;\n",
              "      --hover-bg-color: #E2EBFA;\n",
              "      --hover-fill-color: #174EA6;\n",
              "      --disabled-fill-color: #AAA;\n",
              "      --disabled-bg-color: #DDD;\n",
              "  }\n",
              "\n",
              "  [theme=dark] .colab-df-quickchart {\n",
              "      --bg-color: #3B4455;\n",
              "      --fill-color: #D2E3FC;\n",
              "      --hover-bg-color: #434B5C;\n",
              "      --hover-fill-color: #FFFFFF;\n",
              "      --disabled-bg-color: #3B4455;\n",
              "      --disabled-fill-color: #666;\n",
              "  }\n",
              "\n",
              "  .colab-df-quickchart {\n",
              "    background-color: var(--bg-color);\n",
              "    border: none;\n",
              "    border-radius: 50%;\n",
              "    cursor: pointer;\n",
              "    display: none;\n",
              "    fill: var(--fill-color);\n",
              "    height: 32px;\n",
              "    padding: 0;\n",
              "    width: 32px;\n",
              "  }\n",
              "\n",
              "  .colab-df-quickchart:hover {\n",
              "    background-color: var(--hover-bg-color);\n",
              "    box-shadow: 0 1px 2px rgba(60, 64, 67, 0.3), 0 1px 3px 1px rgba(60, 64, 67, 0.15);\n",
              "    fill: var(--button-hover-fill-color);\n",
              "  }\n",
              "\n",
              "  .colab-df-quickchart-complete:disabled,\n",
              "  .colab-df-quickchart-complete:disabled:hover {\n",
              "    background-color: var(--disabled-bg-color);\n",
              "    fill: var(--disabled-fill-color);\n",
              "    box-shadow: none;\n",
              "  }\n",
              "\n",
              "  .colab-df-spinner {\n",
              "    border: 2px solid var(--fill-color);\n",
              "    border-color: transparent;\n",
              "    border-bottom-color: var(--fill-color);\n",
              "    animation:\n",
              "      spin 1s steps(1) infinite;\n",
              "  }\n",
              "\n",
              "  @keyframes spin {\n",
              "    0% {\n",
              "      border-color: transparent;\n",
              "      border-bottom-color: var(--fill-color);\n",
              "      border-left-color: var(--fill-color);\n",
              "    }\n",
              "    20% {\n",
              "      border-color: transparent;\n",
              "      border-left-color: var(--fill-color);\n",
              "      border-top-color: var(--fill-color);\n",
              "    }\n",
              "    30% {\n",
              "      border-color: transparent;\n",
              "      border-left-color: var(--fill-color);\n",
              "      border-top-color: var(--fill-color);\n",
              "      border-right-color: var(--fill-color);\n",
              "    }\n",
              "    40% {\n",
              "      border-color: transparent;\n",
              "      border-right-color: var(--fill-color);\n",
              "      border-top-color: var(--fill-color);\n",
              "    }\n",
              "    60% {\n",
              "      border-color: transparent;\n",
              "      border-right-color: var(--fill-color);\n",
              "    }\n",
              "    80% {\n",
              "      border-color: transparent;\n",
              "      border-right-color: var(--fill-color);\n",
              "      border-bottom-color: var(--fill-color);\n",
              "    }\n",
              "    90% {\n",
              "      border-color: transparent;\n",
              "      border-bottom-color: var(--fill-color);\n",
              "    }\n",
              "  }\n",
              "</style>\n",
              "\n",
              "  <script>\n",
              "    async function quickchart(key) {\n",
              "      const quickchartButtonEl =\n",
              "        document.querySelector('#' + key + ' button');\n",
              "      quickchartButtonEl.disabled = true;  // To prevent multiple clicks.\n",
              "      quickchartButtonEl.classList.add('colab-df-spinner');\n",
              "      try {\n",
              "        const charts = await google.colab.kernel.invokeFunction(\n",
              "            'suggestCharts', [key], {});\n",
              "      } catch (error) {\n",
              "        console.error('Error during call to suggestCharts:', error);\n",
              "      }\n",
              "      quickchartButtonEl.classList.remove('colab-df-spinner');\n",
              "      quickchartButtonEl.classList.add('colab-df-quickchart-complete');\n",
              "    }\n",
              "    (() => {\n",
              "      let quickchartButtonEl =\n",
              "        document.querySelector('#df-e7b89f13-097e-463a-b25a-a9dbe8a976d2 button');\n",
              "      quickchartButtonEl.style.display =\n",
              "        google.colab.kernel.accessAllowed ? 'block' : 'none';\n",
              "    })();\n",
              "  </script>\n",
              "</div>\n",
              "\n",
              "  <div id=\"id_50bff0ff-78de-43e3-b3c3-bcdfd93781d9\">\n",
              "    <style>\n",
              "      .colab-df-generate {\n",
              "        background-color: #E8F0FE;\n",
              "        border: none;\n",
              "        border-radius: 50%;\n",
              "        cursor: pointer;\n",
              "        display: none;\n",
              "        fill: #1967D2;\n",
              "        height: 32px;\n",
              "        padding: 0 0 0 0;\n",
              "        width: 32px;\n",
              "      }\n",
              "\n",
              "      .colab-df-generate:hover {\n",
              "        background-color: #E2EBFA;\n",
              "        box-shadow: 0px 1px 2px rgba(60, 64, 67, 0.3), 0px 1px 3px 1px rgba(60, 64, 67, 0.15);\n",
              "        fill: #174EA6;\n",
              "      }\n",
              "\n",
              "      [theme=dark] .colab-df-generate {\n",
              "        background-color: #3B4455;\n",
              "        fill: #D2E3FC;\n",
              "      }\n",
              "\n",
              "      [theme=dark] .colab-df-generate:hover {\n",
              "        background-color: #434B5C;\n",
              "        box-shadow: 0px 1px 3px 1px rgba(0, 0, 0, 0.15);\n",
              "        filter: drop-shadow(0px 1px 2px rgba(0, 0, 0, 0.3));\n",
              "        fill: #FFFFFF;\n",
              "      }\n",
              "    </style>\n",
              "    <button class=\"colab-df-generate\" onclick=\"generateWithVariable('synthetic_df')\"\n",
              "            title=\"Generate code using this dataframe.\"\n",
              "            style=\"display:none;\">\n",
              "\n",
              "  <svg xmlns=\"http://www.w3.org/2000/svg\" height=\"24px\"viewBox=\"0 0 24 24\"\n",
              "       width=\"24px\">\n",
              "    <path d=\"M7,19H8.4L18.45,9,17,7.55,7,17.6ZM5,21V16.75L18.45,3.32a2,2,0,0,1,2.83,0l1.4,1.43a1.91,1.91,0,0,1,.58,1.4,1.91,1.91,0,0,1-.58,1.4L9.25,21ZM18.45,9,17,7.55Zm-12,3A5.31,5.31,0,0,0,4.9,8.1,5.31,5.31,0,0,0,1,6.5,5.31,5.31,0,0,0,4.9,4.9,5.31,5.31,0,0,0,6.5,1,5.31,5.31,0,0,0,8.1,4.9,5.31,5.31,0,0,0,12,6.5,5.46,5.46,0,0,0,6.5,12Z\"/>\n",
              "  </svg>\n",
              "    </button>\n",
              "    <script>\n",
              "      (() => {\n",
              "      const buttonEl =\n",
              "        document.querySelector('#id_50bff0ff-78de-43e3-b3c3-bcdfd93781d9 button.colab-df-generate');\n",
              "      buttonEl.style.display =\n",
              "        google.colab.kernel.accessAllowed ? 'block' : 'none';\n",
              "\n",
              "      buttonEl.onclick = () => {\n",
              "        google.colab.notebook.generateWithVariable('synthetic_df');\n",
              "      }\n",
              "      })();\n",
              "    </script>\n",
              "  </div>\n",
              "\n",
              "    </div>\n",
              "  </div>\n"
            ],
            "application/vnd.google.colaboratory.intrinsic+json": {
              "type": "dataframe",
              "variable_name": "synthetic_df",
              "summary": "{\n  \"name\": \"synthetic_df\",\n  \"rows\": 5,\n  \"fields\": [\n    {\n      \"column\": \"type\",\n      \"properties\": {\n        \"dtype\": \"category\",\n        \"num_unique_values\": 1,\n        \"samples\": [\n          \"campaign\"\n        ],\n        \"semantic_type\": \"\",\n        \"description\": \"\"\n      }\n    },\n    {\n      \"column\": \"name\",\n      \"properties\": {\n        \"dtype\": \"string\",\n        \"num_unique_values\": 5,\n        \"samples\": [\n          \"Project Neon Shadow\"\n        ],\n        \"semantic_type\": \"\",\n        \"description\": \"\"\n      }\n    },\n    {\n      \"column\": \"description\",\n      \"properties\": {\n        \"dtype\": \"string\",\n        \"num_unique_values\": 5,\n        \"samples\": [\n          \"A global initiative aimed at undermining the security frameworks of critical infrastructure through the dissemination of advanced persistent threats (APTs).\"\n        ],\n        \"semantic_type\": \"\",\n        \"description\": \"\"\n      }\n    },\n    {\n      \"column\": \"aliases\",\n      \"properties\": {\n        \"dtype\": \"category\",\n        \"num_unique_values\": 1,\n        \"samples\": [\n          \"None\"\n        ],\n        \"semantic_type\": \"\",\n        \"description\": \"\"\n      }\n    },\n    {\n      \"column\": \"first_seen\",\n      \"properties\": {\n        \"dtype\": \"object\",\n        \"num_unique_values\": 5,\n        \"samples\": [\n          \"2022-12-15T10:15:30.000Z\"\n        ],\n        \"semantic_type\": \"\",\n        \"description\": \"\"\n      }\n    },\n    {\n      \"column\": \"last_seen\",\n      \"properties\": {\n        \"dtype\": \"object\",\n        \"num_unique_values\": 5,\n        \"samples\": [\n          \"2023-02-28T17:50:00.000Z\"\n        ],\n        \"semantic_type\": \"\",\n        \"description\": \"\"\n      }\n    },\n    {\n      \"column\": \"objective\",\n      \"properties\": {\n        \"dtype\": \"string\",\n        \"num_unique_values\": 5,\n        \"samples\": [\n          \"To expose vulnerabilities in critical infrastructure and provoke a reevaluation of current cybersecurity practices.\"\n        ],\n        \"semantic_type\": \"\",\n        \"description\": \"\"\n      }\n    }\n  ]\n}"
            }
          },
          "metadata": {},
          "execution_count": 12
        }
      ],
      "source": [
        "import pandas as pd\n",
        "\n",
        "# Create a list of dictionaries from the objects\n",
        "synthetic_data = []\n",
        "for item in synthetic_results:\n",
        "    synthetic_data.append({\n",
        "        'type': item.type,\n",
        "        'name': item.name,\n",
        "        'description': item.description,\n",
        "        'aliases': item.aliases,\n",
        "        'first_seen': item.first_seen,\n",
        "        'last_seen': item.last_seen,\n",
        "        'objective': item.objective\n",
        "    })\n",
        "\n",
        "# Create a Pandas DataFrame from the list of dictionaries\n",
        "synthetic_df = pd.DataFrame(synthetic_data)\n",
        "\n",
        "# Display the DataFrame\n",
        "print(type(synthetic_df))\n",
        "synthetic_df"
      ]
    },
    {
      "cell_type": "code",
      "execution_count": null,
      "id": "fd5d0931-9c30-4d3b-a351-97fb9ca51e9d",
      "metadata": {
        "id": "fd5d0931-9c30-4d3b-a351-97fb9ca51e9d",
        "colab": {
          "base_uri": "https://localhost:8080/"
        },
        "outputId": "58ad9fc0-ff57-42e0-bf7d-3780a19c17e5"
      },
      "outputs": [
        {
          "output_type": "stream",
          "name": "stdout",
          "text": [
            "Threat actor data saved to 'campaign_data.csv'\n"
          ]
        }
      ],
      "source": [
        "# Save the DataFrame to a CSV file\n",
        "synthetic_df.to_csv('campaign_data.csv', index=False)  # index=False prevents adding an extra index column\n",
        "print(\"Threat actor data saved to 'campaign_data.csv'\")"
      ]
    }
  ],
  "metadata": {
    "kernelspec": {
      "display_name": "Python 3",
      "name": "python3"
    },
    "language_info": {
      "codemirror_mode": {
        "name": "ipython",
        "version": 3
      },
      "file_extension": ".py",
      "mimetype": "text/x-python",
      "name": "python",
      "nbconvert_exporter": "python",
      "pygments_lexer": "ipython3",
      "version": "3.10.12"
    },
    "colab": {
      "provenance": [],
      "gpuType": "T4"
    },
    "accelerator": "GPU"
  },
  "nbformat": 4,
  "nbformat_minor": 5
}