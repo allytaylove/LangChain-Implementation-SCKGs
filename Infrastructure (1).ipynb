{
  "cells": [
    {
      "cell_type": "code",
      "execution_count": null,
      "id": "60303358-5946-4d73-9e09-a42bb4904fca",
      "metadata": {
        "id": "60303358-5946-4d73-9e09-a42bb4904fca"
      },
      "outputs": [],
      "source": [
        "%%capture\n",
        "!pip install -U langchain langchain_experimental openai"
      ]
    },
    {
      "cell_type": "code",
      "execution_count": null,
      "id": "f080c30b-aa82-48d2-b6b4-4e53475a6cdf",
      "metadata": {
        "id": "f080c30b-aa82-48d2-b6b4-4e53475a6cdf"
      },
      "outputs": [],
      "source": [
        "# set environment variables\n",
        "import os\n",
        "os.environ[\"OPENAI_API_KEY\"] = \"\""
      ]
    },
    {
      "cell_type": "markdown",
      "id": "47aa59b1-847a-4801-b5e0-0106a8d66058",
      "metadata": {
        "id": "47aa59b1-847a-4801-b5e0-0106a8d66058"
      },
      "source": [
        "# Imports"
      ]
    },
    {
      "cell_type": "code",
      "execution_count": null,
      "id": "8a2392dc-2db3-4daf-ad34-6ff2dd595cd0",
      "metadata": {
        "id": "8a2392dc-2db3-4daf-ad34-6ff2dd595cd0"
      },
      "outputs": [],
      "source": [
        "from langchain.prompts import FewShotPromptTemplate, PromptTemplate\n",
        "from langchain.chat_models import ChatOpenAI\n",
        "from langchain.pydantic_v1 import BaseModel\n",
        "from datetime import datetime\n",
        "from typing import List, Optional\n",
        "from langchain_experimental.tabular_synthetic_data.base import SyntheticDataGenerator\n",
        "from langchain_experimental.tabular_synthetic_data.openai import create_openai_data_generator, OPENAI_TEMPLATE\n",
        "from langchain_experimental.tabular_synthetic_data.prompts import SYNTHETIC_FEW_SHOT_SUFFIX, SYNTHETIC_FEW_SHOT_PREFIX"
      ]
    },
    {
      "cell_type": "markdown",
      "id": "244d173b-c97b-4e64-b5b6-80196058951b",
      "metadata": {
        "id": "244d173b-c97b-4e64-b5b6-80196058951b"
      },
      "source": [
        "# Schema for generating Grouping\n",
        "\n",
        "\n"
      ]
    },
    {
      "cell_type": "code",
      "execution_count": null,
      "id": "7fa008da-3650-43f2-9d52-8e941b0d4ea9",
      "metadata": {
        "id": "7fa008da-3650-43f2-9d52-8e941b0d4ea9"
      },
      "outputs": [],
      "source": [
        "class Infrastructure(BaseModel):\n",
        "    type: str\n",
        "    spec_version: str\n",
        "    id: str\n",
        "    created: str\n",
        "    modified: str\n",
        "    name: str\n",
        "    description: Optional[str] = None\n",
        "    infrastructure_types: Optional[str] = None\n",
        "    aliases: Optional[str] = None\n",
        "    kill_chain_phases: Optional[str] = None\n",
        "    first_seen: Optional[str] = None\n",
        "    last_seen: Optional[str] = None\n",
        "\n",
        "\n"
      ]
    },
    {
      "cell_type": "markdown",
      "id": "c36426e7-2bdc-44ed-8d1d-efed9456e3aa",
      "metadata": {
        "id": "c36426e7-2bdc-44ed-8d1d-efed9456e3aa"
      },
      "source": [
        "# Sample Data as example"
      ]
    },
    {
      "cell_type": "code",
      "source": [
        "examples = [\n",
        "  {\"example\": \"\"\"Type: infrastructure, spec_version: 2.1, id: infrastructure--38c47d93-d984-4fd9-b87b-d69d0841628d, created: 2016-05-07T11:22:30.000Z, modified: 2016-05-07T11:22:30.000Z, name: Poison Ivy C2\"\"\"},\n",
        "  {\"example\": \"\"\"Type: infrastructure, spec_version: 2.1, id: infrastructure--46c31j39-s832-5dj8-n31n-b28n0834921d, created: 2020-11-30T27:18:17.000Z, modified: 2018-06-08T18:30:29.000Z, Virgina Beach Vibes\"\"\"},\n",
        "  {\"example\": \"\"\"Type: infrastructure, spec_version: 2.1, id: infrastructure--83h18d02-j183-9a9j-j1j4-j14j2849229h, created: 2018-08-10T10:29:19.000Z, modified: 2020-11-19T20:10:15.000Z, Pembroke Squad\"\"\"},\n",
        "  {\"example\": \"\"\"Type: infrastructure, spec_version: 2.1, id: infrastructure--56h37e19-j239-8s2k-h4j2-j19h2384721s, created: 2012-05-19T21:19:25.000Z, modified: 2015-10-23T23:19:27.000Z, BlackHats District 13\"\"\"},\n",
        "  {\"example\": \"\"\"Type: infrastructure, spec_version: 2.1, id: infrastructure--47x83u91-j384-5h2j-h4m2-j39d9492834d, created: 2012-04-17T23:21:38.000Z, modified: 2018-07-17T12:18:30.000Z, name: BlackHats District 12\"\"\"}\n",
        "]"
      ],
      "metadata": {
        "id": "bMSmSlx9uOwd"
      },
      "id": "bMSmSlx9uOwd",
      "execution_count": null,
      "outputs": []
    },
    {
      "cell_type": "markdown",
      "id": "76546d91-f130-4a75-81b4-c940cb1f3c8b",
      "metadata": {
        "id": "76546d91-f130-4a75-81b4-c940cb1f3c8b"
      },
      "source": [
        "# Prompt Template for GPT-4"
      ]
    },
    {
      "cell_type": "code",
      "execution_count": null,
      "id": "cf3c201e-a55c-4419-b463-ed8242308d9b",
      "metadata": {
        "id": "cf3c201e-a55c-4419-b463-ed8242308d9b"
      },
      "outputs": [],
      "source": [
        "OPENAI_TEMPLATE = PromptTemplate(input_variables=[\"example\"], template=\"{example}\")\n",
        "\n",
        "prompt_template = FewShotPromptTemplate(\n",
        "    prefix=SYNTHETIC_FEW_SHOT_PREFIX,\n",
        "    examples=examples,\n",
        "    suffix=SYNTHETIC_FEW_SHOT_SUFFIX,\n",
        "    input_variables=[\"subject\", \"extra\"],\n",
        "    example_prompt=OPENAI_TEMPLATE,\n",
        ")"
      ]
    },
    {
      "cell_type": "markdown",
      "id": "b079b30b-2b89-4718-855c-f70a43a0a953",
      "metadata": {
        "id": "b079b30b-2b89-4718-855c-f70a43a0a953"
      },
      "source": [
        "# Data Generator"
      ]
    },
    {
      "cell_type": "code",
      "execution_count": null,
      "id": "7fd5c1e3-3236-4781-8a48-b06081e659a0",
      "metadata": {
        "id": "7fd5c1e3-3236-4781-8a48-b06081e659a0"
      },
      "outputs": [],
      "source": [
        "synthetic_data_generator = create_openai_data_generator(\n",
        "    output_schema=Infrastructure,\n",
        "    llm=ChatOpenAI(temperature=1,model='gpt-4-turbo-preview'),\n",
        "    prompt=prompt_template,\n",
        ")"
      ]
    },
    {
      "cell_type": "markdown",
      "id": "b6a55a1e-6683-4978-8eba-666490d4e4ad",
      "metadata": {
        "id": "b6a55a1e-6683-4978-8eba-666490d4e4ad"
      },
      "source": [
        "# Parameters"
      ]
    },
    {
      "cell_type": "code",
      "execution_count": null,
      "id": "3223a40d-f405-45c4-ad76-8fb2c90de834",
      "metadata": {
        "id": "3223a40d-f405-45c4-ad76-8fb2c90de834"
      },
      "outputs": [],
      "source": [
        "synthetic_results = synthetic_data_generator.generate(\n",
        "    subject=\"Infrastructure\",\n",
        "    extra=\"Choose a unique and unconventional description, infrastructure type, alias, kill chain phase, first seen, and last seen for each Infrastructure. Avoid common or typical names.\",\n",
        "    runs=1,\n",
        ")"
      ]
    },
    {
      "cell_type": "code",
      "execution_count": null,
      "id": "aaa3d5fb-1eff-41b0-b026-f266cd819fd1",
      "metadata": {
        "id": "aaa3d5fb-1eff-41b0-b026-f266cd819fd1",
        "colab": {
          "base_uri": "https://localhost:8080/"
        },
        "outputId": "a44f472a-86f6-47c5-f620-c99026bfe46a"
      },
      "outputs": [
        {
          "output_type": "execute_result",
          "data": {
            "text/plain": [
              "1"
            ]
          },
          "metadata": {},
          "execution_count": 36
        }
      ],
      "source": [
        "len(synthetic_results)"
      ]
    },
    {
      "cell_type": "markdown",
      "id": "4e8b1e99-ae5f-4aaa-99ed-e40e994ef5da",
      "metadata": {
        "id": "4e8b1e99-ae5f-4aaa-99ed-e40e994ef5da"
      },
      "source": [
        "# Display Data"
      ]
    },
    {
      "cell_type": "code",
      "execution_count": null,
      "id": "fdeb5719-271a-4113-80da-398265f53b1f",
      "metadata": {
        "id": "fdeb5719-271a-4113-80da-398265f53b1f",
        "colab": {
          "base_uri": "https://localhost:8080/"
        },
        "outputId": "68bf70f7-2135-4f1e-b6c2-9b37abeb859c"
      },
      "outputs": [
        {
          "output_type": "execute_result",
          "data": {
            "text/plain": [
              "[Infrastructure(type='infrastructure', spec_version='2.1', id='infrastructure--b2c49d82-4c5f-42e2-b89a-e6b2a0c4e5d7', created='2023-01-22T15:42:19.000Z', modified='2023-04-11T10:15:28.000Z', name='Neon Gridlock', description='A decentralized web of quantum encrypted communication nodes, designed to evade conventional detection methods.', infrastructure_types='quantum-encrypted-network', aliases='QuantumNet, Grid Shadow', kill_chain_phases='reconnaissance, delivery', first_seen='2022-11-05T08:30:00.000Z', last_seen='2023-03-30T18:45:00.000Z')]"
            ]
          },
          "metadata": {},
          "execution_count": 37
        }
      ],
      "source": [
        "synthetic_results"
      ]
    },
    {
      "cell_type": "markdown",
      "id": "c979113a-ac0e-4500-bbd2-0741edc8ceab",
      "metadata": {
        "id": "c979113a-ac0e-4500-bbd2-0741edc8ceab"
      },
      "source": [
        "# Display as a DataFrame"
      ]
    },
    {
      "cell_type": "code",
      "execution_count": null,
      "id": "52c8dced-0de5-48f4-8add-df4995bbefaf",
      "metadata": {
        "id": "52c8dced-0de5-48f4-8add-df4995bbefaf",
        "colab": {
          "base_uri": "https://localhost:8080/",
          "height": 205
        },
        "outputId": "ae20b9f5-1d8d-4c9e-e8b3-30caeefbe4fe"
      },
      "outputs": [
        {
          "output_type": "stream",
          "name": "stdout",
          "text": [
            "<class 'pandas.core.frame.DataFrame'>\n"
          ]
        },
        {
          "output_type": "execute_result",
          "data": {
            "text/plain": [
              "             type           name  \\\n",
              "0  infrastructure  Neon Gridlock   \n",
              "\n",
              "                                         description  \\\n",
              "0  A decentralized web of quantum encrypted commu...   \n",
              "\n",
              "        infrastructure_types                  aliases  \\\n",
              "0  quantum-encrypted-network  QuantumNet, Grid Shadow   \n",
              "\n",
              "          kill_chain_phases                first_seen  \\\n",
              "0  reconnaissance, delivery  2022-11-05T08:30:00.000Z   \n",
              "\n",
              "                  last_seen  \n",
              "0  2023-03-30T18:45:00.000Z  "
            ],
            "text/html": [
              "\n",
              "  <div id=\"df-894349cc-b5e2-424a-97d9-6af607ff6fc9\" class=\"colab-df-container\">\n",
              "    <div>\n",
              "<style scoped>\n",
              "    .dataframe tbody tr th:only-of-type {\n",
              "        vertical-align: middle;\n",
              "    }\n",
              "\n",
              "    .dataframe tbody tr th {\n",
              "        vertical-align: top;\n",
              "    }\n",
              "\n",
              "    .dataframe thead th {\n",
              "        text-align: right;\n",
              "    }\n",
              "</style>\n",
              "<table border=\"1\" class=\"dataframe\">\n",
              "  <thead>\n",
              "    <tr style=\"text-align: right;\">\n",
              "      <th></th>\n",
              "      <th>type</th>\n",
              "      <th>name</th>\n",
              "      <th>description</th>\n",
              "      <th>infrastructure_types</th>\n",
              "      <th>aliases</th>\n",
              "      <th>kill_chain_phases</th>\n",
              "      <th>first_seen</th>\n",
              "      <th>last_seen</th>\n",
              "    </tr>\n",
              "  </thead>\n",
              "  <tbody>\n",
              "    <tr>\n",
              "      <th>0</th>\n",
              "      <td>infrastructure</td>\n",
              "      <td>Neon Gridlock</td>\n",
              "      <td>A decentralized web of quantum encrypted commu...</td>\n",
              "      <td>quantum-encrypted-network</td>\n",
              "      <td>QuantumNet, Grid Shadow</td>\n",
              "      <td>reconnaissance, delivery</td>\n",
              "      <td>2022-11-05T08:30:00.000Z</td>\n",
              "      <td>2023-03-30T18:45:00.000Z</td>\n",
              "    </tr>\n",
              "  </tbody>\n",
              "</table>\n",
              "</div>\n",
              "    <div class=\"colab-df-buttons\">\n",
              "\n",
              "  <div class=\"colab-df-container\">\n",
              "    <button class=\"colab-df-convert\" onclick=\"convertToInteractive('df-894349cc-b5e2-424a-97d9-6af607ff6fc9')\"\n",
              "            title=\"Convert this dataframe to an interactive table.\"\n",
              "            style=\"display:none;\">\n",
              "\n",
              "  <svg xmlns=\"http://www.w3.org/2000/svg\" height=\"24px\" viewBox=\"0 -960 960 960\">\n",
              "    <path d=\"M120-120v-720h720v720H120Zm60-500h600v-160H180v160Zm220 220h160v-160H400v160Zm0 220h160v-160H400v160ZM180-400h160v-160H180v160Zm440 0h160v-160H620v160ZM180-180h160v-160H180v160Zm440 0h160v-160H620v160Z\"/>\n",
              "  </svg>\n",
              "    </button>\n",
              "\n",
              "  <style>\n",
              "    .colab-df-container {\n",
              "      display:flex;\n",
              "      gap: 12px;\n",
              "    }\n",
              "\n",
              "    .colab-df-convert {\n",
              "      background-color: #E8F0FE;\n",
              "      border: none;\n",
              "      border-radius: 50%;\n",
              "      cursor: pointer;\n",
              "      display: none;\n",
              "      fill: #1967D2;\n",
              "      height: 32px;\n",
              "      padding: 0 0 0 0;\n",
              "      width: 32px;\n",
              "    }\n",
              "\n",
              "    .colab-df-convert:hover {\n",
              "      background-color: #E2EBFA;\n",
              "      box-shadow: 0px 1px 2px rgba(60, 64, 67, 0.3), 0px 1px 3px 1px rgba(60, 64, 67, 0.15);\n",
              "      fill: #174EA6;\n",
              "    }\n",
              "\n",
              "    .colab-df-buttons div {\n",
              "      margin-bottom: 4px;\n",
              "    }\n",
              "\n",
              "    [theme=dark] .colab-df-convert {\n",
              "      background-color: #3B4455;\n",
              "      fill: #D2E3FC;\n",
              "    }\n",
              "\n",
              "    [theme=dark] .colab-df-convert:hover {\n",
              "      background-color: #434B5C;\n",
              "      box-shadow: 0px 1px 3px 1px rgba(0, 0, 0, 0.15);\n",
              "      filter: drop-shadow(0px 1px 2px rgba(0, 0, 0, 0.3));\n",
              "      fill: #FFFFFF;\n",
              "    }\n",
              "  </style>\n",
              "\n",
              "    <script>\n",
              "      const buttonEl =\n",
              "        document.querySelector('#df-894349cc-b5e2-424a-97d9-6af607ff6fc9 button.colab-df-convert');\n",
              "      buttonEl.style.display =\n",
              "        google.colab.kernel.accessAllowed ? 'block' : 'none';\n",
              "\n",
              "      async function convertToInteractive(key) {\n",
              "        const element = document.querySelector('#df-894349cc-b5e2-424a-97d9-6af607ff6fc9');\n",
              "        const dataTable =\n",
              "          await google.colab.kernel.invokeFunction('convertToInteractive',\n",
              "                                                    [key], {});\n",
              "        if (!dataTable) return;\n",
              "\n",
              "        const docLinkHtml = 'Like what you see? Visit the ' +\n",
              "          '<a target=\"_blank\" href=https://colab.research.google.com/notebooks/data_table.ipynb>data table notebook</a>'\n",
              "          + ' to learn more about interactive tables.';\n",
              "        element.innerHTML = '';\n",
              "        dataTable['output_type'] = 'display_data';\n",
              "        await google.colab.output.renderOutput(dataTable, element);\n",
              "        const docLink = document.createElement('div');\n",
              "        docLink.innerHTML = docLinkHtml;\n",
              "        element.appendChild(docLink);\n",
              "      }\n",
              "    </script>\n",
              "  </div>\n",
              "\n",
              "\n",
              "  <div id=\"id_17d86340-a769-4f8d-a00b-22a1bb645f31\">\n",
              "    <style>\n",
              "      .colab-df-generate {\n",
              "        background-color: #E8F0FE;\n",
              "        border: none;\n",
              "        border-radius: 50%;\n",
              "        cursor: pointer;\n",
              "        display: none;\n",
              "        fill: #1967D2;\n",
              "        height: 32px;\n",
              "        padding: 0 0 0 0;\n",
              "        width: 32px;\n",
              "      }\n",
              "\n",
              "      .colab-df-generate:hover {\n",
              "        background-color: #E2EBFA;\n",
              "        box-shadow: 0px 1px 2px rgba(60, 64, 67, 0.3), 0px 1px 3px 1px rgba(60, 64, 67, 0.15);\n",
              "        fill: #174EA6;\n",
              "      }\n",
              "\n",
              "      [theme=dark] .colab-df-generate {\n",
              "        background-color: #3B4455;\n",
              "        fill: #D2E3FC;\n",
              "      }\n",
              "\n",
              "      [theme=dark] .colab-df-generate:hover {\n",
              "        background-color: #434B5C;\n",
              "        box-shadow: 0px 1px 3px 1px rgba(0, 0, 0, 0.15);\n",
              "        filter: drop-shadow(0px 1px 2px rgba(0, 0, 0, 0.3));\n",
              "        fill: #FFFFFF;\n",
              "      }\n",
              "    </style>\n",
              "    <button class=\"colab-df-generate\" onclick=\"generateWithVariable('synthetic_df')\"\n",
              "            title=\"Generate code using this dataframe.\"\n",
              "            style=\"display:none;\">\n",
              "\n",
              "  <svg xmlns=\"http://www.w3.org/2000/svg\" height=\"24px\"viewBox=\"0 0 24 24\"\n",
              "       width=\"24px\">\n",
              "    <path d=\"M7,19H8.4L18.45,9,17,7.55,7,17.6ZM5,21V16.75L18.45,3.32a2,2,0,0,1,2.83,0l1.4,1.43a1.91,1.91,0,0,1,.58,1.4,1.91,1.91,0,0,1-.58,1.4L9.25,21ZM18.45,9,17,7.55Zm-12,3A5.31,5.31,0,0,0,4.9,8.1,5.31,5.31,0,0,0,1,6.5,5.31,5.31,0,0,0,4.9,4.9,5.31,5.31,0,0,0,6.5,1,5.31,5.31,0,0,0,8.1,4.9,5.31,5.31,0,0,0,12,6.5,5.46,5.46,0,0,0,6.5,12Z\"/>\n",
              "  </svg>\n",
              "    </button>\n",
              "    <script>\n",
              "      (() => {\n",
              "      const buttonEl =\n",
              "        document.querySelector('#id_17d86340-a769-4f8d-a00b-22a1bb645f31 button.colab-df-generate');\n",
              "      buttonEl.style.display =\n",
              "        google.colab.kernel.accessAllowed ? 'block' : 'none';\n",
              "\n",
              "      buttonEl.onclick = () => {\n",
              "        google.colab.notebook.generateWithVariable('synthetic_df');\n",
              "      }\n",
              "      })();\n",
              "    </script>\n",
              "  </div>\n",
              "\n",
              "    </div>\n",
              "  </div>\n"
            ],
            "application/vnd.google.colaboratory.intrinsic+json": {
              "type": "dataframe",
              "variable_name": "synthetic_df",
              "summary": "{\n  \"name\": \"synthetic_df\",\n  \"rows\": 1,\n  \"fields\": [\n    {\n      \"column\": \"type\",\n      \"properties\": {\n        \"dtype\": \"string\",\n        \"num_unique_values\": 1,\n        \"samples\": [\n          \"infrastructure\"\n        ],\n        \"semantic_type\": \"\",\n        \"description\": \"\"\n      }\n    },\n    {\n      \"column\": \"name\",\n      \"properties\": {\n        \"dtype\": \"string\",\n        \"num_unique_values\": 1,\n        \"samples\": [\n          \"Neon Gridlock\"\n        ],\n        \"semantic_type\": \"\",\n        \"description\": \"\"\n      }\n    },\n    {\n      \"column\": \"description\",\n      \"properties\": {\n        \"dtype\": \"string\",\n        \"num_unique_values\": 1,\n        \"samples\": [\n          \"A decentralized web of quantum encrypted communication nodes, designed to evade conventional detection methods.\"\n        ],\n        \"semantic_type\": \"\",\n        \"description\": \"\"\n      }\n    },\n    {\n      \"column\": \"infrastructure_types\",\n      \"properties\": {\n        \"dtype\": \"string\",\n        \"num_unique_values\": 1,\n        \"samples\": [\n          \"quantum-encrypted-network\"\n        ],\n        \"semantic_type\": \"\",\n        \"description\": \"\"\n      }\n    },\n    {\n      \"column\": \"aliases\",\n      \"properties\": {\n        \"dtype\": \"string\",\n        \"num_unique_values\": 1,\n        \"samples\": [\n          \"QuantumNet, Grid Shadow\"\n        ],\n        \"semantic_type\": \"\",\n        \"description\": \"\"\n      }\n    },\n    {\n      \"column\": \"kill_chain_phases\",\n      \"properties\": {\n        \"dtype\": \"string\",\n        \"num_unique_values\": 1,\n        \"samples\": [\n          \"reconnaissance, delivery\"\n        ],\n        \"semantic_type\": \"\",\n        \"description\": \"\"\n      }\n    },\n    {\n      \"column\": \"first_seen\",\n      \"properties\": {\n        \"dtype\": \"object\",\n        \"num_unique_values\": 1,\n        \"samples\": [\n          \"2022-11-05T08:30:00.000Z\"\n        ],\n        \"semantic_type\": \"\",\n        \"description\": \"\"\n      }\n    },\n    {\n      \"column\": \"last_seen\",\n      \"properties\": {\n        \"dtype\": \"object\",\n        \"num_unique_values\": 1,\n        \"samples\": [\n          \"2023-03-30T18:45:00.000Z\"\n        ],\n        \"semantic_type\": \"\",\n        \"description\": \"\"\n      }\n    }\n  ]\n}"
            }
          },
          "metadata": {},
          "execution_count": 38
        }
      ],
      "source": [
        "import pandas as pd\n",
        "\n",
        "# Create a list of dictionaries from the objects\n",
        "synthetic_data = []\n",
        "for item in synthetic_results:\n",
        "    synthetic_data.append({\n",
        "        'type': item.type,\n",
        "        'name': item.name,\n",
        "        'description': item.description,\n",
        "        'infrastructure_types': item.infrastructure_types,\n",
        "        'aliases': item.aliases,\n",
        "        'kill_chain_phases': item.kill_chain_phases,\n",
        "        'first_seen': item.first_seen,\n",
        "        'last_seen': item.last_seen\n",
        "        })\n",
        "\n",
        "# Create a Pandas DataFrame from the list of dictionaries\n",
        "synthetic_df = pd.DataFrame(synthetic_data)\n",
        "\n",
        "# Display the DataFrame\n",
        "print(type(synthetic_df))\n",
        "synthetic_df"
      ]
    },
    {
      "cell_type": "code",
      "execution_count": null,
      "id": "fd5d0931-9c30-4d3b-a351-97fb9ca51e9d",
      "metadata": {
        "id": "fd5d0931-9c30-4d3b-a351-97fb9ca51e9d",
        "colab": {
          "base_uri": "https://localhost:8080/"
        },
        "outputId": "217c3f4a-8456-48d4-8517-2e93223a58ef"
      },
      "outputs": [
        {
          "output_type": "stream",
          "name": "stdout",
          "text": [
            "Infrastructure data saved to 'infrastructure_data.csv'\n"
          ]
        }
      ],
      "source": [
        "# Save the DataFrame to a CSV file\n",
        "synthetic_df.to_csv('infrastructure_data.csv', index=False)  # index=False prevents adding an extra index column\n",
        "print(\"Infrastructure data saved to 'infrastructure_data.csv'\")"
      ]
    }
  ],
  "metadata": {
    "kernelspec": {
      "display_name": "Python 3",
      "name": "python3"
    },
    "language_info": {
      "codemirror_mode": {
        "name": "ipython",
        "version": 3
      },
      "file_extension": ".py",
      "mimetype": "text/x-python",
      "name": "python",
      "nbconvert_exporter": "python",
      "pygments_lexer": "ipython3",
      "version": "3.10.12"
    },
    "colab": {
      "provenance": [],
      "gpuType": "T4"
    },
    "accelerator": "GPU"
  },
  "nbformat": 4,
  "nbformat_minor": 5
}